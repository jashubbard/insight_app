{
 "cells": [
  {
   "cell_type": "code",
   "execution_count": 4,
   "metadata": {
    "collapsed": false
   },
   "outputs": [],
   "source": [
    "import psycopg2\n",
    "import pandas as pd"
   ]
  },
  {
   "cell_type": "code",
   "execution_count": 5,
   "metadata": {
    "collapsed": false
   },
   "outputs": [],
   "source": [
    "#connect to database\n",
    "user = 'insightdb' #add your username here (same as previous postgreSQL)                      \n",
    "# host = 'mydbinstance.cgaia5rww7ar.us-west-2.rds.amazonaws.com'\n",
    "host = 'localhost'\n",
    "# dbname = 'project'\n",
    "dbname = 'yelp'\n",
    "\n",
    "con=psycopg2.connect(dbname= dbname, host=host, user= user, password= 'datascience')\n",
    "# con=psycopg2.connect(dbname= dbname, host=host, port= 5432, user= user, password= 'datascience')\n"
   ]
  },
  {
   "cell_type": "code",
   "execution_count": 6,
   "metadata": {
    "collapsed": false
   },
   "outputs": [
    {
     "data": {
      "text/plain": [
       "'5 & Diner'"
      ]
     },
     "execution_count": 6,
     "metadata": {},
     "output_type": "execute_result"
    }
   ],
   "source": [
    "\n",
    "query = \"\"\"\n",
    "SELECT  distinct(name) FROM businesses\n",
    "WHERE  state='AZ' AND review_count>=200 AND categories LIKE '%Restaurants%'\n",
    "ORDER BY name;\n",
    "\"\"\"\n",
    "biz_list = pd.read_sql_query(query,con)\n",
    "biz_list.name[1]"
   ]
  },
  {
   "cell_type": "code",
   "execution_count": 8,
   "metadata": {
    "collapsed": false
   },
   "outputs": [],
   "source": [
    "from project_lib import get_data\n",
    "#get all data from that business\n",
    "rtops= get_data(con,biz_list.name[1])"
   ]
  },
  {
   "cell_type": "code",
   "execution_count": 40,
   "metadata": {
    "collapsed": true
   },
   "outputs": [],
   "source": [
    "def sentence_topics2(model,rawtext,top_only=False):\n",
    "    \n",
    "    sent_tokenize_list = sent_tokenize(rawtext)\n",
    "    preproc = [preprocess(x) for x in sent_tokenize_list]\n",
    "    bows = [model.id2word.doc2bow(x,allow_update=False) for x in preproc]\n",
    "    tops = model.get_document_topics(bows)\n",
    "    \n",
    "    output = []\n",
    "    \n",
    "    for i,sent in enumerate(sent_tokenize_list):\n",
    "        if len(preproc[i])> 5:\n",
    "     \n",
    "            topics = tops[i]\n",
    "            topics_df = pd.DataFrame(np.vstack(topics),columns=['topic','prob'])\n",
    "            sent_df = pd.DataFrame(np.repeat(sent,topics_df.shape[0]),columns=['sentence'])\n",
    "                                     \n",
    "            tmp = pd.concat([sent_df,topics_df],axis=1)\n",
    "            output.append(tmp)\n",
    "        \n",
    "    if len(output)>0:    \n",
    "        output = pd.concat(output).reset_index(drop=True)\n",
    "    else:\n",
    "        return(None)\n",
    "    \n",
    "    if top_only:\n",
    "        idx = output.groupby(['sentence'])['prob'].transform(max) == output['prob']\n",
    "        output = output[idx].reset_index(drop=True)\n",
    "    else:\n",
    "        output['top_prob'] = output.groupby(['sentence'])['prob'].transform(max)\n",
    "        \n",
    "    return(output)\n",
    "    \n",
    "\n",
    "def topics_by_sentence2(model,df,top_only=False):\n",
    "    \n",
    "    output = []\n",
    "\n",
    "    for i in range(len(df)):\n",
    "        \n",
    "        cleantext = re.sub(r'^https?:\\/\\/.*[\\r\\n]*', '', df.text[i], flags=re.MULTILINE)\n",
    "        \n",
    "        if len(cleantext)>0:\n",
    "            sents = sentence_topics2(model,cleantext,top_only=top_only) \n",
    "            \n",
    "            if isinstance(sents,pd.DataFrame):\n",
    "                sents['review_id'] = np.repeat(df.review_id[i],len(sents))\n",
    "                output.append(sents)\n",
    "    \n",
    "    if len(output)>0:\n",
    "        output = pd.concat(output)\n",
    "        output['sentiment'] = [TextBlob(x).sentiment.polarity for x in output.sentence]\n",
    "    else:\n",
    "        return(None)\n",
    "    \n",
    "\n",
    "    return(output)\n",
    "\n",
    "\n",
    "def get_example_sentences(model,df,topics = None, topn = 3):\n",
    "    \n",
    "    if topics is None: \n",
    "        topics = np.arange(model.num_topics)\n",
    "    \n",
    "    output = topics_by_sentence2(model,df,top_only=True)\n",
    "    \n",
    "    if isinstance(output,pd.DataFrame):\n",
    "        output = output[output['topic'].isin(topics)].reset_index(drop=True)\n",
    "        \n",
    "        grouped = output.groupby('topic')['prob'].nlargest(topn)\n",
    "        sentences = output.loc[grouped.index.levels[1].values,'sentence'] \n",
    "\n",
    "        topsents = pd.DataFrame(sentences).reset_index(drop=True)\n",
    "        topsents['topic'] = grouped.reset_index()['topic']\n",
    "    else:\n",
    "        topsents = pd.DataFrame(np.arange(5),columns=['topic'])\n",
    "        topsents['sentence'] = np.repeat([''],5)\n",
    "        \n",
    "    return(topsents)\n",
    "    "
   ]
  },
  {
   "cell_type": "code",
   "execution_count": 43,
   "metadata": {
    "collapsed": false
   },
   "outputs": [
    {
     "data": {
      "text/html": [
       "<div>\n",
       "<style>\n",
       "    .dataframe thead tr:only-child th {\n",
       "        text-align: right;\n",
       "    }\n",
       "\n",
       "    .dataframe thead th {\n",
       "        text-align: left;\n",
       "    }\n",
       "\n",
       "    .dataframe tbody tr th {\n",
       "        vertical-align: top;\n",
       "    }\n",
       "</style>\n",
       "<table border=\"1\" class=\"dataframe\">\n",
       "  <thead>\n",
       "    <tr style=\"text-align: right;\">\n",
       "      <th></th>\n",
       "      <th>topic</th>\n",
       "      <th>sentence</th>\n",
       "    </tr>\n",
       "  </thead>\n",
       "  <tbody>\n",
       "    <tr>\n",
       "      <th>0</th>\n",
       "      <td>0</td>\n",
       "      <td></td>\n",
       "    </tr>\n",
       "    <tr>\n",
       "      <th>1</th>\n",
       "      <td>1</td>\n",
       "      <td></td>\n",
       "    </tr>\n",
       "    <tr>\n",
       "      <th>2</th>\n",
       "      <td>2</td>\n",
       "      <td></td>\n",
       "    </tr>\n",
       "    <tr>\n",
       "      <th>3</th>\n",
       "      <td>3</td>\n",
       "      <td></td>\n",
       "    </tr>\n",
       "    <tr>\n",
       "      <th>4</th>\n",
       "      <td>4</td>\n",
       "      <td></td>\n",
       "    </tr>\n",
       "  </tbody>\n",
       "</table>\n",
       "</div>"
      ],
      "text/plain": [
       "   topic sentence\n",
       "0      0         \n",
       "1      1         \n",
       "2      2         \n",
       "3      3         \n",
       "4      4         "
      ]
     },
     "execution_count": 43,
     "metadata": {},
     "output_type": "execute_result"
    }
   ],
   "source": [
    "topsents = pd.DataFrame(np.arange(5),columns=['topic'])\n",
    "topsents['sentence'] = np.repeat([''],5)\n",
    "topsents"
   ]
  },
  {
   "cell_type": "code",
   "execution_count": 41,
   "metadata": {
    "collapsed": false
   },
   "outputs": [
    {
     "data": {
      "text/html": [
       "<div>\n",
       "<style>\n",
       "    .dataframe thead tr:only-child th {\n",
       "        text-align: right;\n",
       "    }\n",
       "\n",
       "    .dataframe thead th {\n",
       "        text-align: left;\n",
       "    }\n",
       "\n",
       "    .dataframe tbody tr th {\n",
       "        vertical-align: top;\n",
       "    }\n",
       "</style>\n",
       "<table border=\"1\" class=\"dataframe\">\n",
       "  <thead>\n",
       "    <tr style=\"text-align: right;\">\n",
       "      <th></th>\n",
       "      <th>sentence</th>\n",
       "      <th>topic</th>\n",
       "    </tr>\n",
       "  </thead>\n",
       "  <tbody>\n",
       "    <tr>\n",
       "      <th>0</th>\n",
       "      <td>Eggs, hash-browns, (good) sausage, bacon, and ...</td>\n",
       "      <td>0.0</td>\n",
       "    </tr>\n",
       "    <tr>\n",
       "      <th>1</th>\n",
       "      <td>After they saw us batting flies our entire mea...</td>\n",
       "      <td>0.0</td>\n",
       "    </tr>\n",
       "    <tr>\n",
       "      <th>2</th>\n",
       "      <td>I normally can find SOMETHING healthy on every...</td>\n",
       "      <td>0.0</td>\n",
       "    </tr>\n",
       "    <tr>\n",
       "      <th>3</th>\n",
       "      <td>I had the \"Diner Dip\"; the meat was nothing sp...</td>\n",
       "      <td>1.0</td>\n",
       "    </tr>\n",
       "    <tr>\n",
       "      <th>4</th>\n",
       "      <td>Boyfriend had some kind of burger, and it was ...</td>\n",
       "      <td>1.0</td>\n",
       "    </tr>\n",
       "    <tr>\n",
       "      <th>5</th>\n",
       "      <td>In general the service was good right up until...</td>\n",
       "      <td>1.0</td>\n",
       "    </tr>\n",
       "    <tr>\n",
       "      <th>6</th>\n",
       "      <td>Second time here and I love the food, it's nic...</td>\n",
       "      <td>2.0</td>\n",
       "    </tr>\n",
       "    <tr>\n",
       "      <th>7</th>\n",
       "      <td>First time I ordered breakfast, just your stan...</td>\n",
       "      <td>2.0</td>\n",
       "    </tr>\n",
       "    <tr>\n",
       "      <th>8</th>\n",
       "      <td>We experienced great and friendly service and ...</td>\n",
       "      <td>2.0</td>\n",
       "    </tr>\n",
       "    <tr>\n",
       "      <th>9</th>\n",
       "      <td>The food is hearty and portions are decent, th...</td>\n",
       "      <td>3.0</td>\n",
       "    </tr>\n",
       "    <tr>\n",
       "      <th>10</th>\n",
       "      <td>The food reminds me of stuff my mom use to mak...</td>\n",
       "      <td>3.0</td>\n",
       "    </tr>\n",
       "    <tr>\n",
       "      <th>11</th>\n",
       "      <td>My friend got the Diner Split which might seem...</td>\n",
       "      <td>3.0</td>\n",
       "    </tr>\n",
       "    <tr>\n",
       "      <th>12</th>\n",
       "      <td>Finally as we are trying to wait patiently for...</td>\n",
       "      <td>4.0</td>\n",
       "    </tr>\n",
       "    <tr>\n",
       "      <th>13</th>\n",
       "      <td>What I take is an Arizona-based 50's-theme din...</td>\n",
       "      <td>4.0</td>\n",
       "    </tr>\n",
       "    <tr>\n",
       "      <th>14</th>\n",
       "      <td>The first time I ordered the French Toast brea...</td>\n",
       "      <td>4.0</td>\n",
       "    </tr>\n",
       "  </tbody>\n",
       "</table>\n",
       "</div>"
      ],
      "text/plain": [
       "                                             sentence  topic\n",
       "0   Eggs, hash-browns, (good) sausage, bacon, and ...    0.0\n",
       "1   After they saw us batting flies our entire mea...    0.0\n",
       "2   I normally can find SOMETHING healthy on every...    0.0\n",
       "3   I had the \"Diner Dip\"; the meat was nothing sp...    1.0\n",
       "4   Boyfriend had some kind of burger, and it was ...    1.0\n",
       "5   In general the service was good right up until...    1.0\n",
       "6   Second time here and I love the food, it's nic...    2.0\n",
       "7   First time I ordered breakfast, just your stan...    2.0\n",
       "8   We experienced great and friendly service and ...    2.0\n",
       "9   The food is hearty and portions are decent, th...    3.0\n",
       "10  The food reminds me of stuff my mom use to mak...    3.0\n",
       "11  My friend got the Diner Split which might seem...    3.0\n",
       "12  Finally as we are trying to wait patiently for...    4.0\n",
       "13  What I take is an Arizona-based 50's-theme din...    4.0\n",
       "14  The first time I ordered the French Toast brea...    4.0"
      ]
     },
     "execution_count": 41,
     "metadata": {},
     "output_type": "execute_result"
    }
   ],
   "source": [
    "get_example_sentences(model,rtops)"
   ]
  },
  {
   "cell_type": "code",
   "execution_count": null,
   "metadata": {
    "collapsed": false
   },
   "outputs": [],
   "source": [
    "import time \n",
    "rtops['sentiment'] =[TextBlob(x).sentiment.polarity for x in rtops.text]\n",
    "\n",
    "topnames = ['topic_%02d' % x for x in range(5)]\n",
    "topnames_w = ['topic_%02d_w' % x for x in range(5)]\n",
    "\n",
    "for t in topnames:\n",
    "    rtops[t+'_w'] =rtops.loc[:,t]*rtops.sentiment\n",
    "\n",
    "rtops['score'] = rtops[topnames_w].sum(axis=1) \n",
    "total_score = rtops.score.mean()   \n",
    "\n",
    "#score each review based on topic probability, usefulness flag, and recency\n",
    "timedeltas = pd.to_datetime(time.strftime(\"%Y-%m-%d\")) - pd.to_datetime(rtops.review_date)\n",
    "r = timedeltas.rank(ascending=False)\n",
    "\n",
    "rtops['sent_score'] = rtops.top_topic_prob * (rtops.useful) * r\n",
    "tmp = rtops.groupby(['top_topic']).apply(lambda x: x.nlargest(3,'sent_score')).reset_index(drop=True) #grab the top 3 for each topic\n",
    "\n",
    "\n",
    "#grab example sentences for each one\n",
    "examples = get_example_sentences(model,tmp,topn=10)\n",
    "  "
   ]
  },
  {
   "cell_type": "code",
   "execution_count": null,
   "metadata": {
    "collapsed": true
   },
   "outputs": [],
   "source": []
  }
 ],
 "metadata": {
  "kernelspec": {
   "display_name": "Python [conda env:my_projects_env]",
   "language": "python",
   "name": "conda-env-my_projects_env-py"
  },
  "language_info": {
   "codemirror_mode": {
    "name": "ipython",
    "version": 3
   },
   "file_extension": ".py",
   "mimetype": "text/x-python",
   "name": "python",
   "nbconvert_exporter": "python",
   "pygments_lexer": "ipython3",
   "version": "3.6.1"
  }
 },
 "nbformat": 4,
 "nbformat_minor": 2
}
